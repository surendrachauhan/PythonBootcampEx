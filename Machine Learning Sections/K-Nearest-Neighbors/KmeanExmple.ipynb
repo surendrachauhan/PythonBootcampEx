{
 "cells": [
  {
   "cell_type": "code",
   "execution_count": 2,
   "metadata": {},
   "outputs": [],
   "source": [
    "import pandas as pd\n",
    "import numpy as np \n",
    "import seaborn as sns\n",
    "import matplotlib.pyplot as plt\n",
    "%matplotlib inline"
   ]
  },
  {
   "cell_type": "code",
   "execution_count": 4,
   "metadata": {},
   "outputs": [],
   "source": [
    "df = pd.read_csv('example_submission.csv', index_col=0)"
   ]
  },
  {
   "cell_type": "code",
   "execution_count": 5,
   "metadata": {},
   "outputs": [
    {
     "data": {
      "text/html": [
       "<div>\n",
       "<style scoped>\n",
       "    .dataframe tbody tr th:only-of-type {\n",
       "        vertical-align: middle;\n",
       "    }\n",
       "\n",
       "    .dataframe tbody tr th {\n",
       "        vertical-align: top;\n",
       "    }\n",
       "\n",
       "    .dataframe thead th {\n",
       "        text-align: right;\n",
       "    }\n",
       "</style>\n",
       "<table border=\"1\" class=\"dataframe\">\n",
       "  <thead>\n",
       "    <tr style=\"text-align: right;\">\n",
       "      <th></th>\n",
       "      <th>alt.atheism</th>\n",
       "      <th>comp.graphics</th>\n",
       "      <th>comp.os.ms-windows.misc</th>\n",
       "      <th>comp.sys.ibm.pc.hardware</th>\n",
       "      <th>comp.sys.mac.hardware</th>\n",
       "      <th>comp.windows.x</th>\n",
       "      <th>misc.forsale</th>\n",
       "      <th>rec.autos</th>\n",
       "      <th>rec.motorcycles</th>\n",
       "      <th>rec.sport.baseball</th>\n",
       "      <th>rec.sport.hockey</th>\n",
       "      <th>sci.crypt</th>\n",
       "      <th>sci.electronics</th>\n",
       "      <th>sci.med</th>\n",
       "      <th>sci.space</th>\n",
       "      <th>soc.religion.christian</th>\n",
       "      <th>talk.politics.guns</th>\n",
       "      <th>talk.politics.mideast</th>\n",
       "      <th>talk.politics.misc</th>\n",
       "      <th>talk.religion.misc</th>\n",
       "    </tr>\n",
       "    <tr>\n",
       "      <th>document_id</th>\n",
       "      <th></th>\n",
       "      <th></th>\n",
       "      <th></th>\n",
       "      <th></th>\n",
       "      <th></th>\n",
       "      <th></th>\n",
       "      <th></th>\n",
       "      <th></th>\n",
       "      <th></th>\n",
       "      <th></th>\n",
       "      <th></th>\n",
       "      <th></th>\n",
       "      <th></th>\n",
       "      <th></th>\n",
       "      <th></th>\n",
       "      <th></th>\n",
       "      <th></th>\n",
       "      <th></th>\n",
       "      <th></th>\n",
       "      <th></th>\n",
       "    </tr>\n",
       "  </thead>\n",
       "  <tbody>\n",
       "    <tr>\n",
       "      <th>11315</th>\n",
       "      <td>0.029791</td>\n",
       "      <td>0.004623</td>\n",
       "      <td>0.102390</td>\n",
       "      <td>0.029433</td>\n",
       "      <td>0.020228</td>\n",
       "      <td>0.066824</td>\n",
       "      <td>0.079772</td>\n",
       "      <td>0.089708</td>\n",
       "      <td>0.073236</td>\n",
       "      <td>0.082225</td>\n",
       "      <td>0.061269</td>\n",
       "      <td>0.011158</td>\n",
       "      <td>0.059382</td>\n",
       "      <td>0.033478</td>\n",
       "      <td>0.032621</td>\n",
       "      <td>0.064518</td>\n",
       "      <td>0.017769</td>\n",
       "      <td>0.071708</td>\n",
       "      <td>0.052148</td>\n",
       "      <td>0.017719</td>\n",
       "    </tr>\n",
       "    <tr>\n",
       "      <th>11316</th>\n",
       "      <td>0.050539</td>\n",
       "      <td>0.043109</td>\n",
       "      <td>0.070832</td>\n",
       "      <td>0.022555</td>\n",
       "      <td>0.035361</td>\n",
       "      <td>0.050313</td>\n",
       "      <td>0.076491</td>\n",
       "      <td>0.059855</td>\n",
       "      <td>0.085492</td>\n",
       "      <td>0.011021</td>\n",
       "      <td>0.043155</td>\n",
       "      <td>0.053429</td>\n",
       "      <td>0.059507</td>\n",
       "      <td>0.047276</td>\n",
       "      <td>0.043217</td>\n",
       "      <td>0.090967</td>\n",
       "      <td>0.026594</td>\n",
       "      <td>0.072508</td>\n",
       "      <td>0.023645</td>\n",
       "      <td>0.034133</td>\n",
       "    </tr>\n",
       "    <tr>\n",
       "      <th>11317</th>\n",
       "      <td>0.100924</td>\n",
       "      <td>0.029828</td>\n",
       "      <td>0.061425</td>\n",
       "      <td>0.018137</td>\n",
       "      <td>0.065641</td>\n",
       "      <td>0.037833</td>\n",
       "      <td>0.042368</td>\n",
       "      <td>0.103079</td>\n",
       "      <td>0.055839</td>\n",
       "      <td>0.037701</td>\n",
       "      <td>0.081018</td>\n",
       "      <td>0.040008</td>\n",
       "      <td>0.026683</td>\n",
       "      <td>0.016706</td>\n",
       "      <td>0.104203</td>\n",
       "      <td>0.002045</td>\n",
       "      <td>0.021917</td>\n",
       "      <td>0.000864</td>\n",
       "      <td>0.075031</td>\n",
       "      <td>0.078750</td>\n",
       "    </tr>\n",
       "    <tr>\n",
       "      <th>11318</th>\n",
       "      <td>0.032889</td>\n",
       "      <td>0.023032</td>\n",
       "      <td>0.092388</td>\n",
       "      <td>0.062889</td>\n",
       "      <td>0.022199</td>\n",
       "      <td>0.016644</td>\n",
       "      <td>0.033153</td>\n",
       "      <td>0.049771</td>\n",
       "      <td>0.055765</td>\n",
       "      <td>0.057545</td>\n",
       "      <td>0.040940</td>\n",
       "      <td>0.089684</td>\n",
       "      <td>0.061021</td>\n",
       "      <td>0.053585</td>\n",
       "      <td>0.039527</td>\n",
       "      <td>0.058743</td>\n",
       "      <td>0.054078</td>\n",
       "      <td>0.078564</td>\n",
       "      <td>0.022377</td>\n",
       "      <td>0.055207</td>\n",
       "    </tr>\n",
       "    <tr>\n",
       "      <th>11319</th>\n",
       "      <td>0.057244</td>\n",
       "      <td>0.057136</td>\n",
       "      <td>0.077916</td>\n",
       "      <td>0.036080</td>\n",
       "      <td>0.004005</td>\n",
       "      <td>0.055557</td>\n",
       "      <td>0.037737</td>\n",
       "      <td>0.034336</td>\n",
       "      <td>0.067025</td>\n",
       "      <td>0.085071</td>\n",
       "      <td>0.042626</td>\n",
       "      <td>0.033498</td>\n",
       "      <td>0.027101</td>\n",
       "      <td>0.011335</td>\n",
       "      <td>0.046231</td>\n",
       "      <td>0.047150</td>\n",
       "      <td>0.066529</td>\n",
       "      <td>0.092096</td>\n",
       "      <td>0.052141</td>\n",
       "      <td>0.069187</td>\n",
       "    </tr>\n",
       "  </tbody>\n",
       "</table>\n",
       "</div>"
      ],
      "text/plain": [
       "             alt.atheism  comp.graphics  comp.os.ms-windows.misc  \\\n",
       "document_id                                                        \n",
       "11315           0.029791       0.004623                 0.102390   \n",
       "11316           0.050539       0.043109                 0.070832   \n",
       "11317           0.100924       0.029828                 0.061425   \n",
       "11318           0.032889       0.023032                 0.092388   \n",
       "11319           0.057244       0.057136                 0.077916   \n",
       "\n",
       "             comp.sys.ibm.pc.hardware  comp.sys.mac.hardware  comp.windows.x  \\\n",
       "document_id                                                                    \n",
       "11315                        0.029433               0.020228        0.066824   \n",
       "11316                        0.022555               0.035361        0.050313   \n",
       "11317                        0.018137               0.065641        0.037833   \n",
       "11318                        0.062889               0.022199        0.016644   \n",
       "11319                        0.036080               0.004005        0.055557   \n",
       "\n",
       "             misc.forsale  rec.autos  rec.motorcycles  rec.sport.baseball  \\\n",
       "document_id                                                                 \n",
       "11315            0.079772   0.089708         0.073236            0.082225   \n",
       "11316            0.076491   0.059855         0.085492            0.011021   \n",
       "11317            0.042368   0.103079         0.055839            0.037701   \n",
       "11318            0.033153   0.049771         0.055765            0.057545   \n",
       "11319            0.037737   0.034336         0.067025            0.085071   \n",
       "\n",
       "             rec.sport.hockey  sci.crypt  sci.electronics   sci.med  \\\n",
       "document_id                                                           \n",
       "11315                0.061269   0.011158         0.059382  0.033478   \n",
       "11316                0.043155   0.053429         0.059507  0.047276   \n",
       "11317                0.081018   0.040008         0.026683  0.016706   \n",
       "11318                0.040940   0.089684         0.061021  0.053585   \n",
       "11319                0.042626   0.033498         0.027101  0.011335   \n",
       "\n",
       "             sci.space  soc.religion.christian  talk.politics.guns  \\\n",
       "document_id                                                          \n",
       "11315         0.032621                0.064518            0.017769   \n",
       "11316         0.043217                0.090967            0.026594   \n",
       "11317         0.104203                0.002045            0.021917   \n",
       "11318         0.039527                0.058743            0.054078   \n",
       "11319         0.046231                0.047150            0.066529   \n",
       "\n",
       "             talk.politics.mideast  talk.politics.misc  talk.religion.misc  \n",
       "document_id                                                                 \n",
       "11315                     0.071708            0.052148            0.017719  \n",
       "11316                     0.072508            0.023645            0.034133  \n",
       "11317                     0.000864            0.075031            0.078750  \n",
       "11318                     0.078564            0.022377            0.055207  \n",
       "11319                     0.092096            0.052141            0.069187  "
      ]
     },
     "execution_count": 5,
     "metadata": {},
     "output_type": "execute_result"
    }
   ],
   "source": [
    "df.head()"
   ]
  },
  {
   "cell_type": "code",
   "execution_count": 6,
   "metadata": {},
   "outputs": [
    {
     "name": "stdout",
     "output_type": "stream",
     "text": [
      "<class 'pandas.core.frame.DataFrame'>\n",
      "Int64Index: 7532 entries, 11315 to 18846\n",
      "Data columns (total 20 columns):\n",
      "alt.atheism                 7532 non-null float64\n",
      "comp.graphics               7532 non-null float64\n",
      "comp.os.ms-windows.misc     7532 non-null float64\n",
      "comp.sys.ibm.pc.hardware    7532 non-null float64\n",
      "comp.sys.mac.hardware       7532 non-null float64\n",
      "comp.windows.x              7532 non-null float64\n",
      "misc.forsale                7532 non-null float64\n",
      "rec.autos                   7532 non-null float64\n",
      "rec.motorcycles             7532 non-null float64\n",
      "rec.sport.baseball          7532 non-null float64\n",
      "rec.sport.hockey            7532 non-null float64\n",
      "sci.crypt                   7532 non-null float64\n",
      "sci.electronics             7532 non-null float64\n",
      "sci.med                     7532 non-null float64\n",
      "sci.space                   7532 non-null float64\n",
      "soc.religion.christian      7532 non-null float64\n",
      "talk.politics.guns          7532 non-null float64\n",
      "talk.politics.mideast       7532 non-null float64\n",
      "talk.politics.misc          7532 non-null float64\n",
      "talk.religion.misc          7532 non-null float64\n",
      "dtypes: float64(20)\n",
      "memory usage: 1.2 MB\n"
     ]
    }
   ],
   "source": [
    "df.info()"
   ]
  },
  {
   "cell_type": "code",
   "execution_count": 7,
   "metadata": {},
   "outputs": [],
   "source": [
    "from sklearn.cluster import KMeans"
   ]
  },
  {
   "cell_type": "code",
   "execution_count": 8,
   "metadata": {},
   "outputs": [],
   "source": [
    "kmeans = KMeans(n_clusters=2)"
   ]
  },
  {
   "cell_type": "code",
   "execution_count": 9,
   "metadata": {},
   "outputs": [
    {
     "data": {
      "text/plain": [
       "KMeans(algorithm='auto', copy_x=True, init='k-means++', max_iter=300,\n",
       "    n_clusters=2, n_init=10, n_jobs=1, precompute_distances='auto',\n",
       "    random_state=None, tol=0.0001, verbose=0)"
      ]
     },
     "execution_count": 9,
     "metadata": {},
     "output_type": "execute_result"
    }
   ],
   "source": [
    "kmeans.fit(df)"
   ]
  },
  {
   "cell_type": "code",
   "execution_count": 10,
   "metadata": {},
   "outputs": [
    {
     "data": {
      "text/plain": [
       "array([[0.04961871, 0.04628608, 0.04950724, 0.04755649, 0.04991796,\n",
       "        0.04845578, 0.07459889, 0.04985886, 0.04796098, 0.04934973,\n",
       "        0.05002127, 0.04812463, 0.04970527, 0.04831866, 0.04679284,\n",
       "        0.04718308, 0.04973797, 0.04776228, 0.04854511, 0.05069818],\n",
       "       [0.05051833, 0.05225533, 0.05191695, 0.05195025, 0.05070812,\n",
       "        0.05119047, 0.0256293 , 0.05012202, 0.05076524, 0.05122363,\n",
       "        0.04907433, 0.05298299, 0.05123938, 0.0517398 , 0.05291038,\n",
       "        0.05160469, 0.05017132, 0.05236075, 0.05180184, 0.04983488]])"
      ]
     },
     "execution_count": 10,
     "metadata": {},
     "output_type": "execute_result"
    }
   ],
   "source": [
    "kmeans.cluster_centers_"
   ]
  },
  {
   "cell_type": "code",
   "execution_count": 11,
   "metadata": {},
   "outputs": [],
   "source": [
    "from sklearn.metrics  import confusion_matrix , classification_report"
   ]
  },
  {
   "cell_type": "code",
   "execution_count": 12,
   "metadata": {},
   "outputs": [
    {
     "ename": "ValueError",
     "evalue": "Classification metrics can't handle a mix of continuous-multioutput and binary targets",
     "output_type": "error",
     "traceback": [
      "\u001b[0;31m---------------------------------------------------------------------------\u001b[0m",
      "\u001b[0;31mValueError\u001b[0m                                Traceback (most recent call last)",
      "\u001b[0;32m<ipython-input-12-d639e8e4344d>\u001b[0m in \u001b[0;36m<module>\u001b[0;34m()\u001b[0m\n\u001b[0;32m----> 1\u001b[0;31m \u001b[0mprint\u001b[0m\u001b[0;34m(\u001b[0m\u001b[0mconfusion_matrix\u001b[0m\u001b[0;34m(\u001b[0m\u001b[0mdf\u001b[0m\u001b[0;34m,\u001b[0m \u001b[0mkmeans\u001b[0m\u001b[0;34m.\u001b[0m\u001b[0mlabels_\u001b[0m\u001b[0;34m)\u001b[0m\u001b[0;34m)\u001b[0m\u001b[0;34m\u001b[0m\u001b[0m\n\u001b[0m",
      "\u001b[0;32m/anaconda3/lib/python3.6/site-packages/sklearn/metrics/classification.py\u001b[0m in \u001b[0;36mconfusion_matrix\u001b[0;34m(y_true, y_pred, labels, sample_weight)\u001b[0m\n\u001b[1;32m    248\u001b[0m \u001b[0;34m\u001b[0m\u001b[0m\n\u001b[1;32m    249\u001b[0m     \"\"\"\n\u001b[0;32m--> 250\u001b[0;31m     \u001b[0my_type\u001b[0m\u001b[0;34m,\u001b[0m \u001b[0my_true\u001b[0m\u001b[0;34m,\u001b[0m \u001b[0my_pred\u001b[0m \u001b[0;34m=\u001b[0m \u001b[0m_check_targets\u001b[0m\u001b[0;34m(\u001b[0m\u001b[0my_true\u001b[0m\u001b[0;34m,\u001b[0m \u001b[0my_pred\u001b[0m\u001b[0;34m)\u001b[0m\u001b[0;34m\u001b[0m\u001b[0m\n\u001b[0m\u001b[1;32m    251\u001b[0m     \u001b[0;32mif\u001b[0m \u001b[0my_type\u001b[0m \u001b[0;32mnot\u001b[0m \u001b[0;32min\u001b[0m \u001b[0;34m(\u001b[0m\u001b[0;34m\"binary\"\u001b[0m\u001b[0;34m,\u001b[0m \u001b[0;34m\"multiclass\"\u001b[0m\u001b[0;34m)\u001b[0m\u001b[0;34m:\u001b[0m\u001b[0;34m\u001b[0m\u001b[0m\n\u001b[1;32m    252\u001b[0m         \u001b[0;32mraise\u001b[0m \u001b[0mValueError\u001b[0m\u001b[0;34m(\u001b[0m\u001b[0;34m\"%s is not supported\"\u001b[0m \u001b[0;34m%\u001b[0m \u001b[0my_type\u001b[0m\u001b[0;34m)\u001b[0m\u001b[0;34m\u001b[0m\u001b[0m\n",
      "\u001b[0;32m/anaconda3/lib/python3.6/site-packages/sklearn/metrics/classification.py\u001b[0m in \u001b[0;36m_check_targets\u001b[0;34m(y_true, y_pred)\u001b[0m\n\u001b[1;32m     79\u001b[0m     \u001b[0;32mif\u001b[0m \u001b[0mlen\u001b[0m\u001b[0;34m(\u001b[0m\u001b[0my_type\u001b[0m\u001b[0;34m)\u001b[0m \u001b[0;34m>\u001b[0m \u001b[0;36m1\u001b[0m\u001b[0;34m:\u001b[0m\u001b[0;34m\u001b[0m\u001b[0m\n\u001b[1;32m     80\u001b[0m         raise ValueError(\"Classification metrics can't handle a mix of {0} \"\n\u001b[0;32m---> 81\u001b[0;31m                          \"and {1} targets\".format(type_true, type_pred))\n\u001b[0m\u001b[1;32m     82\u001b[0m \u001b[0;34m\u001b[0m\u001b[0m\n\u001b[1;32m     83\u001b[0m     \u001b[0;31m# We can't have more than one value on y_type => The set is no more needed\u001b[0m\u001b[0;34m\u001b[0m\u001b[0;34m\u001b[0m\u001b[0m\n",
      "\u001b[0;31mValueError\u001b[0m: Classification metrics can't handle a mix of continuous-multioutput and binary targets"
     ]
    }
   ],
   "source": [
    "print(confusion_matrix(df, kmeans.labels_))"
   ]
  },
  {
   "cell_type": "code",
   "execution_count": null,
   "metadata": {},
   "outputs": [],
   "source": []
  }
 ],
 "metadata": {
  "kernelspec": {
   "display_name": "Python 3",
   "language": "python",
   "name": "python3"
  },
  "language_info": {
   "codemirror_mode": {
    "name": "ipython",
    "version": 3
   },
   "file_extension": ".py",
   "mimetype": "text/x-python",
   "name": "python",
   "nbconvert_exporter": "python",
   "pygments_lexer": "ipython3",
   "version": "3.6.5"
  }
 },
 "nbformat": 4,
 "nbformat_minor": 2
}
